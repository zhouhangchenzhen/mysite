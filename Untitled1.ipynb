{
 "cells": [
  {
   "cell_type": "code",
   "execution_count": 16,
   "metadata": {},
   "outputs": [
    {
     "name": "stdout",
     "output_type": "stream",
     "text": [
      "[4.53978687e-05 1.23394576e-04 3.35350130e-04 9.11051194e-04\n",
      " 2.47262316e-03 6.69285092e-03 1.79862100e-02 4.74258732e-02\n",
      " 1.19202922e-01 2.68941421e-01 5.00000000e-01 7.31058579e-01\n",
      " 8.80797078e-01 9.52574127e-01 9.82013790e-01 9.93307149e-01\n",
      " 9.97527377e-01 9.99088949e-01 9.99664650e-01 9.99876605e-01]\n"
     ]
    },
    {
     "data": {
      "image/png": "[encoded data removed]",
      "text/plain": [
       "<Figure size 432x288 with 1 Axes>"
      ]
     },
     "metadata": {},
     "output_type": "display_data"
    }
   ],
   "source": [
    "import numpy as np ##this means you can access numpy functions by writing np.functions\n",
    "def sigmoid(x):\n",
    "    \"\"\"\n",
    "    compute the sigmoid of x\n",
    "    Arguments:\n",
    "    x--A scalar or numpy array of any size\n",
    "    Return:\n",
    "    s--sigmoid(x)\n",
    "    \"\"\"\n",
    "    ###start code here ###\n",
    "    s=1.0/(1+1/np.exp(x))\n",
    "    return s\n",
    "\n",
    "\n",
    "##sigmoid gradient function\n",
    "def sigmoid_derivative(x):\n",
    "    \"\"\"\n",
    "    Compute the gradient(also call the slope of derivative) of the sigmoid function with respect to its input vector \n",
    "    You can store the output of the sigmoid function into variables and then use it to calculate gradient\n",
    "    Arguments:\n",
    "    x--A scalar or numpy array\n",
    "    \n",
    "    Return :\n",
    "    ds---the computed gradient\n",
    "    \n",
    "    \"\"\"\n",
    "    ### store code here ###\n",
    "    s=1.0/ (1+1/np.exp(x))\n",
    "    ds=s*(1-s)\n",
    "    return ds\n",
    "\n",
    "\n",
    "x=range(-10,10)\n",
    "b=sigmoid(x)\n",
    "c=sigmoid_derivative(x)\n",
    "print(b)\n",
    "import matplotlib.pyplot as plt\n",
    "plt.plot(x,b)\n",
    "plt.plot(x,c)\n",
    "plt.show()"
   ]
  },
  {
   "cell_type": "code",
   "execution_count": 24,
   "metadata": {},
   "outputs": [
    {
     "name": "stdout",
     "output_type": "stream",
     "text": [
      "[[[0.67826139 0.29380381]\n",
      "  [0.90714982 0.52835647]\n",
      "  [0.4215251  0.45017551]]\n",
      "\n",
      " [[0.92814219 0.96677647]\n",
      "  [0.85304703 0.52351845]\n",
      "  [0.19981397 0.27417313]]\n",
      "\n",
      " [[0.60659855 0.00533165]\n",
      "  [0.10820313 0.49978937]\n",
      "  [0.34144279 0.94630077]]]\n",
      "[[0.67826139]\n",
      " [0.29380381]\n",
      " [0.90714982]\n",
      " [0.52835647]\n",
      " [0.4215251 ]\n",
      " [0.45017551]\n",
      " [0.92814219]\n",
      " [0.96677647]\n",
      " [0.85304703]\n",
      " [0.52351845]\n",
      " [0.19981397]\n",
      " [0.27417313]\n",
      " [0.60659855]\n",
      " [0.00533165]\n",
      " [0.10820313]\n",
      " [0.49978937]\n",
      " [0.34144279]\n",
      " [0.94630077]]\n"
     ]
    }
   ],
   "source": [
    "## graded function :image2vector\n",
    "def image2vector(image):\n",
    "    \"\"\"\n",
    "    Argument:\n",
    "    image--a numpy array of shape(length ,height,depth)\n",
    "    returns:\n",
    "    v--a vector of shape(length*height*depth,1)\n",
    "    \n",
    "    \"\"\"\n",
    "    ### start code here ###\n",
    "    v=image.reshape(image.shape[0]*image.shape[1]*image.shape[2],1)\n",
    "    ### end code here\n",
    "    \n",
    "    return v\n",
    "\n",
    "# This is a 3 by 3 by 2 array, typically images will be (num_px_x, num_px_y,3) where 3 represents the RGB values\n",
    "image = np.array([[[ 0.67826139,  0.29380381],\n",
    "        [ 0.90714982,  0.52835647],\n",
    "        [ 0.4215251 ,  0.45017551]],\n",
    "\n",
    "       [[ 0.92814219,  0.96677647],\n",
    "        [ 0.85304703,  0.52351845],\n",
    "        [ 0.19981397,  0.27417313]],\n",
    "\n",
    "       [[ 0.60659855,  0.00533165],\n",
    "        [ 0.10820313,  0.49978937],\n",
    "        [ 0.34144279,  0.94630077]]])\n",
    "print(image)\n",
    "b=image2vector(image)\n",
    "print(b)\n",
    "\n"
   ]
  },
  {
   "cell_type": "code",
   "execution_count": 26,
   "metadata": {},
   "outputs": [
    {
     "name": "stdout",
     "output_type": "stream",
     "text": [
      "[[0 3 4]\n",
      " [1 6 4]]\n",
      "[[0.         0.6        0.8       ]\n",
      " [0.13736056 0.82416338 0.54944226]]\n",
      "[[0.         0.4472136  0.70710678]\n",
      " [1.         0.89442719 0.70710678]]\n"
     ]
    }
   ],
   "source": [
    "## graded function:normalizerows\n",
    "def normalizeRows(x):\n",
    "    \"\"\"\n",
    "    \n",
    "    Implement a function that normalizes each row of matrix x (to have unit length)\n",
    "    Argument:\n",
    "    x--A numpy matrix of shape(n,m)\n",
    "    \n",
    "    Returns:\n",
    "    x--the normalized(by row) numpy matrix .You are allowed to modify x\n",
    "    \n",
    "    \"\"\"\n",
    "    ###star code here###\n",
    "    #Compute x_norm as norm 2 of x. use np.linalg.norm(...,ord=2,axis=...)\n",
    "    x_norm=np.linalg.norm(x,axis=1,keepdims=True)\n",
    "    #divide x by its norm.\n",
    "    x=x/x_norm ##broadcasting \n",
    "    ###end code here\n",
    "    return x\n",
    "\n",
    "## graded function:normalizeColumns\n",
    "def normalizeColumn(x):\n",
    "    \"\"\"\n",
    "    \n",
    "    Implement a function that normalizes each column of matrix x (to have unit length)\n",
    "    Argument:\n",
    "    x--A numpy matrix of shape(n,m)\n",
    "    \n",
    "    Returns:\n",
    "    x--the normalized(by row) numpy matrix .You are allowed to modify x\n",
    "    \n",
    "    \"\"\"\n",
    "    ###star code here###\n",
    "    #Compute x_norm as norm 2 of x. use np.linalg.norm(...,ord=2,axis=...)\n",
    "    x_norm=np.linalg.norm(x,axis=0,keepdims=True)\n",
    "    #divide x by its norm.\n",
    "    x=x/x_norm ##broadcasting \n",
    "    ###end code here\n",
    "    return x\n",
    "\n",
    "x = np.array([\n",
    "    [0, 3, 4],\n",
    "    [1, 6, 4]])\n",
    "b=normalizeRows(x)\n",
    "c=normalizeColumn(x)\n",
    "print(x)\n",
    "print(b)\n",
    "print(c)"
   ]
  },
  {
   "cell_type": "code",
   "execution_count": 35,
   "metadata": {},
   "outputs": [
    {
     "name": "stdout",
     "output_type": "stream",
     "text": [
      "softmax(x)=[[9.80897665e-01 8.94462891e-04 1.79657674e-02 1.21052389e-04\n",
      "  1.21052389e-04]\n",
      " [8.78679856e-01 1.18916387e-01 8.01252314e-04 8.01252314e-04\n",
      "  8.01252314e-04]]\n"
     ]
    }
   ],
   "source": [
    "##graded function:softmax\n",
    "def softmax(x):\n",
    "    \"\"\"\n",
    "    Calculates the softmax function for each row of input x.\n",
    "    code can work for a row vector and also for matrices of shape(n,m)\n",
    "    Argument:\n",
    "    x--A numpy matrix of shape(n,m)\n",
    "    \n",
    "    Returns:\n",
    "    s--A numpy matrix equal to the softmax of x,of shape (n,m)\n",
    "    \"\"\"\n",
    "    ###start code here###\n",
    "    #apply exp() element wise to x. \n",
    "    x_exp=np.exp(x) \n",
    "    #create a vector x_sum that sums each row of x_exp\n",
    "    x_sum=np.sum(x_exp,axis=1,keepdims=True) #(n,1)\n",
    "    #compute softmax(x) by dividing x_exp by x_sum .it should automatically use numpy broadcasting\n",
    "    s=x_exp/x_sum #(n,m)\n",
    "    ###end code here###\n",
    "    return s\n",
    "\n",
    "x = np.array([\n",
    "    [9, 2, 5, 0, 0],\n",
    "    [7, 5, 0, 0 ,0]])\n",
    "print(\"softmax(x)=\"+str(softmax(x)))\n",
    "    \n"
   ]
  },
  {
   "cell_type": "code",
   "execution_count": null,
   "metadata": {},
   "outputs": [],
   "source": [
    "##vectorzation \n",
    "##in deep learning ,you deal with very large datasets,a non-computationanlly-optimal function can become a\n",
    "##huge bottleneck in your algorithm and can result in a model that takes ages to run. to make sure that your \n",
    "##code is computationally efficient ,you will use vectorization. for example ,try to tell the difference between\n",
    "##teh following implementations of the dot/outer/elementwise product.\n",
    "import time\n",
    "x1 = np.random.normal(loc=0,scale=1,size=50000000)\n",
    "x2 = np.random.normal(loc=0,scale=1,size=50000000)\n",
    "\n",
    "### classic dot product of vectors implementation\n",
    "tic=time.process_time()\n",
    "dot=0\n",
    "for i in range(len(x1)):\n",
    "    dot+=x1[i]*x2[i]\n",
    "toc=time.process_time()\n",
    "print(\"dot=\"+str(dot)+'\\n-----Computation time='+str(1000*(toc-tic))+\"ms\")\n",
    "\n",
    "tic1=time.process_time()\n",
    "dot=np.dot(x1,x2)\n",
    "toc1=time.process_time()\n",
    "print(\"dot=\"+str(dot)+'\\n-----Computation time='+str(1000*(toc1-tic1))+\"ms\")\n"
   ]
  },
  {
   "cell_type": "code",
   "execution_count": null,
   "metadata": {},
   "outputs": [],
   "source": []
  },
  {
   "cell_type": "code",
   "execution_count": null,
   "metadata": {},
   "outputs": [],
   "source": [
    "##vectorzation \n",
    "##in deep learning ,you deal with very large datasets,a non-computationanlly-optimal function can become a\n",
    "##huge bottleneck in your algorithm and can result in a model that takes ages to run. to make sure that your \n",
    "##code is computationally efficient ,you will use vectorization. for example ,try to tell the difference between\n",
    "##teh following implementations of the dot/outer/elementwise product.\n",
    "import time\n",
    "x1 = np.random.normal(loc=0,scale=1,size=50000)\n",
    "x2 = np.random.normal(loc=0,scale=1,size=50000)\n",
    "\n",
    "### classic dot product of vectors implementation\n",
    "tic=time.process_time()\n",
    "dot=0\n",
    "for i in range(len(x1)):\n",
    "    dot+=x1[i]*x2[i]\n",
    "toc=time.process_time()\n",
    "print(\"dot=\"+str(dot)+'\\n-----Computation time='+str(1000*(toc-tic))+\"ms\")\n",
    "\n",
    "tic1=time.process_time()\n",
    "dot=np.dot(x1,x2)\n",
    "toc1=time.process_time()\n",
    "print(\"dot=\"+str(dot)+'\\n-----Computation time='+str(1000*(toc1-tic1))+\"ms\")\n"
   ]
  },
  {
   "cell_type": "code",
   "execution_count": null,
   "metadata": {},
   "outputs": [],
   "source": []
  }
 ],
 "metadata": {
  "kernelspec": {
   "display_name": "Python 3",
   "language": "python",
   "name": "python3"
  },
  "language_info": {
   "codemirror_mode": {
    "name": "ipython",
    "version": 3
   },
   "file_extension": ".py",
   "mimetype": "text/x-python",
   "name": "python",
   "nbconvert_exporter": "python",
   "pygments_lexer": "ipython3",
   "version": "3.6.4"
  }
 },
 "nbformat": 4,
 "nbformat_minor": 2
}
