{
 "cells": [
  {
   "cell_type": "code",
   "execution_count": null,
   "metadata": {},
   "outputs": [],
   "source": [
    "# http://nbviewer.jupyter.org/github/LearnXu/pydata-notebook/tree/master/\n",
    "a=5;b=6;c=7\n",
    "print(a,b,c)\n",
    "##所有的事物都是对象（object）\n",
    "##python中，number string ,data structure,function,class,module 都有自己的box\n",
    "\n",
    "##调用函数和对象的方法\n",
    "##result=f(x,y,z)\n",
    "##动态参考，强类型，object refrence 是没有自带类型，但是可以通过type来查看类型：\n",
    "a=5\n",
    "print(type(a))\n",
    "\n",
    "##python 是强类型，每一个object都是明确的类型，所以 \"5\"+5，不能成了，二VB回吧'5'转化为整数，2⃣而 Java会把5转为字符串\n",
    "##但是int 和float  会隐性转换\n",
    "a=4.5\n",
    "boy=2\n",
    "c=\"5\"\n",
    "print(\"a is {0},boy is {1},c is {2}\".format(type(a),type(boy),type(c)))\n",
    "\n",
    "print(a/b)\n",
    "\n",
    "##由于object类型很重要，因此可以用isinstance函数来观察object的类型\n"
   ]
  }
 ],
 "metadata": {
  "kernelspec": {
   "display_name": "Python 3",
   "language": "python",
   "name": "python3"
  },
  "language_info": {
   "codemirror_mode": {
    "name": "ipython",
    "version": 3
   },
   "file_extension": ".py",
   "mimetype": "text/x-python",
   "name": "python",
   "nbconvert_exporter": "python",
   "pygments_lexer": "ipython3",
   "version": "3.6.4"
  }
 },
 "nbformat": 4,
 "nbformat_minor": 2
}
